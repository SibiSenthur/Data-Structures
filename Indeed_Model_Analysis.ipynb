{
  "nbformat": 4,
  "nbformat_minor": 0,
  "metadata": {
    "colab": {
      "name": "Indeed Model Analysis.ipynb",
      "provenance": [],
      "collapsed_sections": [],
      "authorship_tag": "ABX9TyOrq0C1nNwTiECStc+BLqFb",
      "include_colab_link": true
    },
    "kernelspec": {
      "name": "python3",
      "display_name": "Python 3"
    },
    "language_info": {
      "name": "python"
    }
  },
  "cells": [
    {
      "cell_type": "markdown",
      "metadata": {
        "id": "view-in-github",
        "colab_type": "text"
      },
      "source": [
        "<a href=\"https://colab.research.google.com/github/SibiSenthur/Data-Structures/blob/master/Indeed_Model_Analysis.ipynb\" target=\"_parent\"><img src=\"https://colab.research.google.com/assets/colab-badge.svg\" alt=\"Open In Colab\"/></a>"
      ]
    },
    {
      "cell_type": "code",
      "metadata": {
        "id": "Rbj7XCqFVxRb"
      },
      "source": [
        "# Importing the necessary libraries\n",
        "import numpy as np # linear algebra\n",
        "import pandas as pd # data processing, CSV file I/O (e.g. pd.read_csv)\n",
        "%matplotlib inline\n",
        "import matplotlib.pyplot as plt  # Matlab-style plotting\n",
        "import seaborn as sns\n",
        "import warnings\n",
        "warnings.filterwarnings(\"ignore\")\n",
        "from google.colab import drive\n",
        "from scipy import stats\n",
        "from scipy.stats import norm, skew #for some statistics"
      ],
      "execution_count": 12,
      "outputs": []
    },
    {
      "cell_type": "markdown",
      "metadata": {
        "id": "wz-Jk9ePdIij"
      },
      "source": [
        "**# Loading and Preparing the Data**"
      ]
    },
    {
      "cell_type": "code",
      "metadata": {
        "colab": {
          "base_uri": "https://localhost:8080/"
        },
        "id": "I1Sf9M_nWnHR",
        "outputId": "eedd64c0-fe2f-4dd2-da02-28bdcf4b5193"
      },
      "source": [
        "drive.mount('/content/drive/')"
      ],
      "execution_count": 13,
      "outputs": [
        {
          "output_type": "stream",
          "text": [
            "Drive already mounted at /content/drive/; to attempt to forcibly remount, call drive.mount(\"/content/drive/\", force_remount=True).\n"
          ],
          "name": "stdout"
        }
      ]
    },
    {
      "cell_type": "code",
      "metadata": {
        "colab": {
          "base_uri": "https://localhost:8080/"
        },
        "id": "y_67oEdrW3AA",
        "outputId": "7e146f75-b137-4f02-b13d-ba4eb3028a96"
      },
      "source": [
        "# Importing the datafile and preparing the data; I have imported the dataset into Colab Notebooks residing within my google drive.\n",
        "df = pd.read_csv('/content/drive/My Drive/Colab Notebooks/PS_Homework_data_set.csv', sep = ',')\n",
        "df.shape\n",
        "df.drop(df.filter(regex=\"Unname\"),axis=1, inplace=True)\n",
        "df.head(10)\n",
        "# Slicing a sample of data; checking if there exists any duplicates in the dataframe\n",
        "boolean = df.duplicated(subset=['advertiser_id']).any() \n",
        "print(boolean, end='\\n\\n')\n",
        "# No duplicates leads exist in my dataframe;"
      ],
      "execution_count": 14,
      "outputs": [
        {
          "output_type": "stream",
          "text": [
            "False\n",
            "\n"
          ],
          "name": "stdout"
        }
      ]
    },
    {
      "cell_type": "code",
      "metadata": {
        "colab": {
          "base_uri": "https://localhost:8080/"
        },
        "id": "XDYQiKlGF6vf",
        "outputId": "d63343fc-bb08-427d-fdc3-bfaacd740197"
      },
      "source": [
        "#List of columns present in dataset.\n",
        "df.dtypes"
      ],
      "execution_count": 15,
      "outputs": [
        {
          "output_type": "execute_result",
          "data": {
            "text/plain": [
              "advertiser_id               int64\n",
              "assigned                    int64\n",
              "date_assignment_starts     object\n",
              "date_assignment_ends       object\n",
              "first_revenue_date         object\n",
              "date_created               object\n",
              "age                         int64\n",
              "assign_days                 int64\n",
              "revenue                   float64\n",
              "dtype: object"
            ]
          },
          "metadata": {
            "tags": []
          },
          "execution_count": 15
        }
      ]
    },
    {
      "cell_type": "markdown",
      "metadata": {
        "id": "GzLXLMCfdSP1"
      },
      "source": [
        "**# Question 1**"
      ]
    },
    {
      "cell_type": "code",
      "metadata": {
        "colab": {
          "base_uri": "https://localhost:8080/",
          "height": 157
        },
        "id": "CXHz53LzE3WO",
        "outputId": "72d911a1-9e60-4483-b08a-9ca35437b252"
      },
      "source": [
        "# How many leads are represented in this data - assigned and unassigned populations. average revenue of each group.\n",
        "df.shape[0] \n",
        "# As, there are no duplicate leads present in our dataset; we have in total 77,891 leads.\n",
        "print(df.groupby('assigned').agg(['count'])['advertiser_id'].reset_index())\n",
        "# Of the 77,891 leads 40,812 leads are not assigned and 37,079 leads are assigned.\n",
        "# More leads are unassigned rather than assigned.\n",
        "df.groupby('assigned').agg({'revenue':'mean'}).astype('int64').reset_index()"
      ],
      "execution_count": 20,
      "outputs": [
        {
          "output_type": "stream",
          "text": [
            "   assigned  count\n",
            "0         0  40812\n",
            "1         1  37079\n"
          ],
          "name": "stdout"
        },
        {
          "output_type": "execute_result",
          "data": {
            "text/html": [
              "<div>\n",
              "<style scoped>\n",
              "    .dataframe tbody tr th:only-of-type {\n",
              "        vertical-align: middle;\n",
              "    }\n",
              "\n",
              "    .dataframe tbody tr th {\n",
              "        vertical-align: top;\n",
              "    }\n",
              "\n",
              "    .dataframe thead th {\n",
              "        text-align: right;\n",
              "    }\n",
              "</style>\n",
              "<table border=\"1\" class=\"dataframe\">\n",
              "  <thead>\n",
              "    <tr style=\"text-align: right;\">\n",
              "      <th></th>\n",
              "      <th>assigned</th>\n",
              "      <th>revenue</th>\n",
              "    </tr>\n",
              "  </thead>\n",
              "  <tbody>\n",
              "    <tr>\n",
              "      <th>0</th>\n",
              "      <td>0</td>\n",
              "      <td>23889416</td>\n",
              "    </tr>\n",
              "    <tr>\n",
              "      <th>1</th>\n",
              "      <td>1</td>\n",
              "      <td>76736860</td>\n",
              "    </tr>\n",
              "  </tbody>\n",
              "</table>\n",
              "</div>"
            ],
            "text/plain": [
              "   assigned   revenue\n",
              "0         0  23889416\n",
              "1         1  76736860"
            ]
          },
          "metadata": {
            "tags": []
          },
          "execution_count": 20
        }
      ]
    },
    {
      "cell_type": "markdown",
      "metadata": {
        "id": "4DJZO361RMm6"
      },
      "source": [
        "**Findings Summary**\n",
        "```\n",
        "# There are no duplicate leads present in our dataset; we have in total 77,891 leads.\n",
        "# Of the 77,891 leads 40,812 leads are not assigned and 37,079 leads are assigned.\n",
        "# More leads are unassigned rather assigned.\n",
        "# Average revenue for un-assigned leads (without any missing value imputation) is 23.88 M and average revenue for assigned leads is 76.73 M.\n",
        "```\n",
        "\n",
        "\n",
        "\n"
      ]
    },
    {
      "cell_type": "code",
      "metadata": {
        "colab": {
          "base_uri": "https://localhost:8080/"
        },
        "id": "hcrc-A2op4mN",
        "outputId": "b122e3f0-bb20-45d2-af20-19bd64ae9164"
      },
      "source": [
        "# Revenue Leads in assigned and un-assigned leads;\n",
        "print(\"Percent of revenue values (not null) present in assigned leads\", \"{:.2f}\".format(df[df['assigned'] == 1]['revenue'].notnull().sum()/len(df[df['assigned']==1])*100))\n",
        "print(\"Percent of revenue values present (not null) in un-assigned leads\", \"{:.2f}\".format(df[df['assigned'] == 0]['revenue'].notnull().sum()/len(df[df['assigned']==0])*100))"
      ],
      "execution_count": 6,
      "outputs": [
        {
          "output_type": "stream",
          "text": [
            "Percent of revenue values (not null) present in assigned leads 4.22\n",
            "Percent of revenue values present (not null) in un-assigned leads 4.35\n"
          ],
          "name": "stdout"
        }
      ]
    },
    {
      "cell_type": "markdown",
      "metadata": {
        "id": "D4uKdKugnS4C"
      },
      "source": [
        "**Summary - Non null revenue values**\n",
        "```\n",
        "# Percentage of non null revenue values present in assigned leads 4.22\n",
        "# Percentage of non null revenue values present in un-assigned leads 4.35\n",
        "# Given most of the revenue values are null, we need to consider two scenarios where revenue values are greater than zero and another scenario where null revenue values are replaced by zero.\n",
        "```"
      ]
    },
    {
      "cell_type": "code",
      "metadata": {
        "colab": {
          "base_uri": "https://localhost:8080/",
          "height": 106
        },
        "id": "A1zBUUlDqA7I",
        "outputId": "ab546301-0d95-4765-d4ac-1d6abda07bf6"
      },
      "source": [
        "# Consider replacing the null values with zero;\n",
        "df['revenue'] = df['revenue'].fillna(0)\n",
        "df.groupby('assigned').agg({'revenue':'mean'}).astype('int64').reset_index()\n",
        "# Based on the assumption that missing revenue values are 0: \n",
        "# After assigned the missing revenue values with zero and calculating the mean revenue, we see that assigned leads have an average revenue of 3.3 M\n",
        "# Unassigned leads have a revenue of approximately 1M. "
      ],
      "execution_count": 8,
      "outputs": [
        {
          "output_type": "execute_result",
          "data": {
            "text/html": [
              "<div>\n",
              "<style scoped>\n",
              "    .dataframe tbody tr th:only-of-type {\n",
              "        vertical-align: middle;\n",
              "    }\n",
              "\n",
              "    .dataframe tbody tr th {\n",
              "        vertical-align: top;\n",
              "    }\n",
              "\n",
              "    .dataframe thead th {\n",
              "        text-align: right;\n",
              "    }\n",
              "</style>\n",
              "<table border=\"1\" class=\"dataframe\">\n",
              "  <thead>\n",
              "    <tr style=\"text-align: right;\">\n",
              "      <th></th>\n",
              "      <th>assigned</th>\n",
              "      <th>revenue</th>\n",
              "    </tr>\n",
              "  </thead>\n",
              "  <tbody>\n",
              "    <tr>\n",
              "      <th>0</th>\n",
              "      <td>0</td>\n",
              "      <td>1039001</td>\n",
              "    </tr>\n",
              "    <tr>\n",
              "      <th>1</th>\n",
              "      <td>1</td>\n",
              "      <td>3238846</td>\n",
              "    </tr>\n",
              "  </tbody>\n",
              "</table>\n",
              "</div>"
            ],
            "text/plain": [
              "   assigned  revenue\n",
              "0         0  1039001\n",
              "1         1  3238846"
            ]
          },
          "metadata": {
            "tags": []
          },
          "execution_count": 8
        }
      ]
    },
    {
      "cell_type": "markdown",
      "metadata": {
        "id": "btFL6RytogZH"
      },
      "source": [
        "** Summary-Average revenue in Million of assigned leads vs un-assigned leads**\n",
        "```\n",
        "# Imputing the missing revenue values as zero;\n",
        "# Average revenue of un-assigned leads is 1.03 M\n",
        "# Average revenue of assigned leads is 3.23 M\n",
        "```\n",
        "\n"
      ]
    },
    {
      "cell_type": "code",
      "metadata": {
        "colab": {
          "base_uri": "https://localhost:8080/",
          "height": 195
        },
        "id": "v7FJsbowemTX",
        "outputId": "053d0126-948f-47e0-9c25-fa8c7f0c33a6"
      },
      "source": [
        "df.head(5)"
      ],
      "execution_count": 9,
      "outputs": [
        {
          "output_type": "execute_result",
          "data": {
            "text/html": [
              "<div>\n",
              "<style scoped>\n",
              "    .dataframe tbody tr th:only-of-type {\n",
              "        vertical-align: middle;\n",
              "    }\n",
              "\n",
              "    .dataframe tbody tr th {\n",
              "        vertical-align: top;\n",
              "    }\n",
              "\n",
              "    .dataframe thead th {\n",
              "        text-align: right;\n",
              "    }\n",
              "</style>\n",
              "<table border=\"1\" class=\"dataframe\">\n",
              "  <thead>\n",
              "    <tr style=\"text-align: right;\">\n",
              "      <th></th>\n",
              "      <th>advertiser_id</th>\n",
              "      <th>assigned</th>\n",
              "      <th>date_assignment_starts</th>\n",
              "      <th>date_assignment_ends</th>\n",
              "      <th>first_revenue_date</th>\n",
              "      <th>date_created</th>\n",
              "      <th>age</th>\n",
              "      <th>assign_days</th>\n",
              "      <th>revenue</th>\n",
              "    </tr>\n",
              "  </thead>\n",
              "  <tbody>\n",
              "    <tr>\n",
              "      <th>0</th>\n",
              "      <td>485</td>\n",
              "      <td>1</td>\n",
              "      <td>2017-02-01 00:00:00.000000</td>\n",
              "      <td>2017-06-19 12:12:37.888680</td>\n",
              "      <td>NaN</td>\n",
              "      <td>2006-07-14</td>\n",
              "      <td>3855</td>\n",
              "      <td>138</td>\n",
              "      <td>0.0</td>\n",
              "    </tr>\n",
              "    <tr>\n",
              "      <th>1</th>\n",
              "      <td>598</td>\n",
              "      <td>1</td>\n",
              "      <td>2017-02-01 00:00:00.000000</td>\n",
              "      <td>2017-06-19 12:12:37.888680</td>\n",
              "      <td>NaN</td>\n",
              "      <td>2006-08-02</td>\n",
              "      <td>3836</td>\n",
              "      <td>138</td>\n",
              "      <td>0.0</td>\n",
              "    </tr>\n",
              "    <tr>\n",
              "      <th>2</th>\n",
              "      <td>673</td>\n",
              "      <td>1</td>\n",
              "      <td>2017-02-01 00:00:00.000000</td>\n",
              "      <td>2017-04-28 15:36:30.000000</td>\n",
              "      <td>NaN</td>\n",
              "      <td>2006-08-17</td>\n",
              "      <td>3821</td>\n",
              "      <td>86</td>\n",
              "      <td>0.0</td>\n",
              "    </tr>\n",
              "    <tr>\n",
              "      <th>3</th>\n",
              "      <td>813</td>\n",
              "      <td>1</td>\n",
              "      <td>2017-02-01 00:00:00.000000</td>\n",
              "      <td>2017-06-19 12:12:37.888680</td>\n",
              "      <td>NaN</td>\n",
              "      <td>2006-09-12</td>\n",
              "      <td>3795</td>\n",
              "      <td>138</td>\n",
              "      <td>0.0</td>\n",
              "    </tr>\n",
              "    <tr>\n",
              "      <th>4</th>\n",
              "      <td>1132</td>\n",
              "      <td>1</td>\n",
              "      <td>2017-02-01 00:00:00.000000</td>\n",
              "      <td>2017-06-19 12:12:37.888680</td>\n",
              "      <td>NaN</td>\n",
              "      <td>2006-11-02</td>\n",
              "      <td>3744</td>\n",
              "      <td>138</td>\n",
              "      <td>0.0</td>\n",
              "    </tr>\n",
              "  </tbody>\n",
              "</table>\n",
              "</div>"
            ],
            "text/plain": [
              "   advertiser_id  assigned  ... assign_days revenue\n",
              "0            485         1  ...         138     0.0\n",
              "1            598         1  ...         138     0.0\n",
              "2            673         1  ...          86     0.0\n",
              "3            813         1  ...         138     0.0\n",
              "4           1132         1  ...         138     0.0\n",
              "\n",
              "[5 rows x 9 columns]"
            ]
          },
          "metadata": {
            "tags": []
          },
          "execution_count": 9
        }
      ]
    },
    {
      "cell_type": "code",
      "metadata": {
        "colab": {
          "base_uri": "https://localhost:8080/",
          "height": 290
        },
        "id": "OIogTzj5KnlV",
        "outputId": "684ab97b-7f41-40bd-cd99-44551d538341"
      },
      "source": [
        "# Pie chart of assigned leads versus un-assigned leads\n",
        "colors_list = ['lightcoral', 'yellowgreen']\n",
        "explode_list = [0.1, 0]\n",
        "labels = ['un-assigned Leads', 'assigned Leads']\n",
        "sizes = [df['assigned'].value_counts()[0], df['assigned'].value_counts()[1]]\n",
        "fig1, ax1 = plt.subplots()\n",
        "ax1.pie(sizes, labels=labels, startangle=45, autopct='%1.1f%%', colors=colors_list, explode=explode_list, shadow=True)\n",
        "plt.title('Assigned versus un-assigned sales leads', y=1.12) \n",
        "ax1.axis('equal')\n",
        "plt.show()\n",
        "# From our analysis, 52% (40,812) of the leads are un-assigned and 48% (37,079) of the leads are assigned."
      ],
      "execution_count": 21,
      "outputs": [
        {
          "output_type": "display_data",
          "data": {
            "image/png": "[encoded data removed]",
            "text/plain": [
              "<Figure size 432x288 with 1 Axes>"
            ]
          },
          "metadata": {
            "tags": []
          }
        }
      ]
    },
    {
      "cell_type": "code",
      "metadata": {
        "colab": {
          "base_uri": "https://localhost:8080/",
          "height": 106
        },
        "id": "4SqPq5A6Sa-H",
        "outputId": "6fda7ff5-3925-4a1c-fad3-3107bd522835"
      },
      "source": [
        "df.groupby('assigned').agg({'revenue':'mean'}).astype('int64').reset_index()"
      ],
      "execution_count": 22,
      "outputs": [
        {
          "output_type": "execute_result",
          "data": {
            "text/html": [
              "<div>\n",
              "<style scoped>\n",
              "    .dataframe tbody tr th:only-of-type {\n",
              "        vertical-align: middle;\n",
              "    }\n",
              "\n",
              "    .dataframe tbody tr th {\n",
              "        vertical-align: top;\n",
              "    }\n",
              "\n",
              "    .dataframe thead th {\n",
              "        text-align: right;\n",
              "    }\n",
              "</style>\n",
              "<table border=\"1\" class=\"dataframe\">\n",
              "  <thead>\n",
              "    <tr style=\"text-align: right;\">\n",
              "      <th></th>\n",
              "      <th>assigned</th>\n",
              "      <th>revenue</th>\n",
              "    </tr>\n",
              "  </thead>\n",
              "  <tbody>\n",
              "    <tr>\n",
              "      <th>0</th>\n",
              "      <td>0</td>\n",
              "      <td>23889416</td>\n",
              "    </tr>\n",
              "    <tr>\n",
              "      <th>1</th>\n",
              "      <td>1</td>\n",
              "      <td>76736860</td>\n",
              "    </tr>\n",
              "  </tbody>\n",
              "</table>\n",
              "</div>"
            ],
            "text/plain": [
              "   assigned   revenue\n",
              "0         0  23889416\n",
              "1         1  76736860"
            ]
          },
          "metadata": {
            "tags": []
          },
          "execution_count": 22
        }
      ]
    },
    {
      "cell_type": "code",
      "metadata": {
        "colab": {
          "base_uri": "https://localhost:8080/",
          "height": 136
        },
        "id": "WgscrhUmYT1f",
        "outputId": "05a3d422-5359-4d2a-eda5-1ea2e769c26e"
      },
      "source": [
        "df.groupby(\n",
        "    ['assigned']\n",
        ").agg(\n",
        "    { # Find the min, max, and sum of the revenue column \n",
        "        'revenue': [min, max, sum],\n",
        "        # find the number of leads\n",
        "        'advertiser_id': \"count\",\n",
        "        # minimum, first, and number of unique dates\n",
        "        'age': [min, max]}).astype('int64').reset_index()"
      ],
      "execution_count": 24,
      "outputs": [
        {
          "output_type": "execute_result",
          "data": {
            "text/html": [
              "<div>\n",
              "<style scoped>\n",
              "    .dataframe tbody tr th:only-of-type {\n",
              "        vertical-align: middle;\n",
              "    }\n",
              "\n",
              "    .dataframe tbody tr th {\n",
              "        vertical-align: top;\n",
              "    }\n",
              "\n",
              "    .dataframe thead tr th {\n",
              "        text-align: left;\n",
              "    }\n",
              "</style>\n",
              "<table border=\"1\" class=\"dataframe\">\n",
              "  <thead>\n",
              "    <tr>\n",
              "      <th></th>\n",
              "      <th>assigned</th>\n",
              "      <th colspan=\"3\" halign=\"left\">revenue</th>\n",
              "      <th>advertiser_id</th>\n",
              "      <th colspan=\"2\" halign=\"left\">age</th>\n",
              "    </tr>\n",
              "    <tr>\n",
              "      <th></th>\n",
              "      <th></th>\n",
              "      <th>min</th>\n",
              "      <th>max</th>\n",
              "      <th>sum</th>\n",
              "      <th>count</th>\n",
              "      <th>min</th>\n",
              "      <th>max</th>\n",
              "    </tr>\n",
              "  </thead>\n",
              "  <tbody>\n",
              "    <tr>\n",
              "      <th>0</th>\n",
              "      <td>0</td>\n",
              "      <td>13000</td>\n",
              "      <td>6533791000</td>\n",
              "      <td>42403713465</td>\n",
              "      <td>40812</td>\n",
              "      <td>0</td>\n",
              "      <td>3097</td>\n",
              "    </tr>\n",
              "    <tr>\n",
              "      <th>1</th>\n",
              "      <td>1</td>\n",
              "      <td>12000</td>\n",
              "      <td>2500000000</td>\n",
              "      <td>120093187404</td>\n",
              "      <td>37079</td>\n",
              "      <td>-27</td>\n",
              "      <td>3855</td>\n",
              "    </tr>\n",
              "  </tbody>\n",
              "</table>\n",
              "</div>"
            ],
            "text/plain": [
              "  assigned revenue                           advertiser_id age      \n",
              "               min         max           sum         count min   max\n",
              "0        0   13000  6533791000   42403713465         40812   0  3097\n",
              "1        1   12000  2500000000  120093187404         37079 -27  3855"
            ]
          },
          "metadata": {
            "tags": []
          },
          "execution_count": 24
        }
      ]
    },
    {
      "cell_type": "code",
      "metadata": {
        "colab": {
          "base_uri": "https://localhost:8080/"
        },
        "id": "-HKpRx5VVvjn",
        "outputId": "bd7f8343-b833-485b-c4bd-af708fca9b76"
      },
      "source": [
        "revenue_leads_assigned = df[df['assigned'] == 1].groupby('assigned')['revenue'].sum().astype('int64').reset_index()\n",
        "revenue_leads_not_assigned = df[df['assigned'] == 0].groupby('assigned')['revenue'].sum().astype('int64').reset_index()\n",
        "print(revenue_leads_assigned['revenue'] - revenue_leads_not_assigned['revenue']) \n",
        "## Total Revenue difference for leads assigned and leads not-assigned is 77,689,473,939"
      ],
      "execution_count": 25,
      "outputs": [
        {
          "output_type": "stream",
          "text": [
            "0    77689473939\n",
            "Name: revenue, dtype: int64\n"
          ],
          "name": "stdout"
        }
      ]
    },
    {
      "cell_type": "code",
      "metadata": {
        "id": "wTQkEJtUIpAh"
      },
      "source": [
        "# Question 2"
      ],
      "execution_count": null,
      "outputs": []
    },
    {
      "cell_type": "code",
      "metadata": {
        "id": "631xN3eEaQKf"
      },
      "source": [
        "# Deducing the relationship Account age and income;\n",
        "# From our analysis, as the age of the account increases, revenue shows an steady increase in trend, exception being if the age of account is around 7 years or 9 years;"
      ],
      "execution_count": 27,
      "outputs": []
    },
    {
      "cell_type": "code",
      "metadata": {
        "colab": {
          "base_uri": "https://localhost:8080/",
          "height": 1000
        },
        "id": "f6vpLpFyrobh",
        "outputId": "d77d1291-904f-48ee-c775-45abf1c7774c"
      },
      "source": [
        "# Understanding a few distributions\n",
        "plt.hist(df_assumption1['revenue'])\n",
        "plt.title(\"Revenue\")\n",
        "plt.show()\n",
        "print(df_assumption1['revenue'].describe())\n",
        "print( '\\nSkewness observed in revenue data : ', \"{:.2f}\".format(skew(df_assumption1['revenue'])))\n",
        "\n",
        "plt.hist(df_assumption1['revenue'], bins=np.logspace(np.log10(10000), np.log10(10000000000), 50), facecolor='orange', alpha=0.7, rwidth = 1)\n",
        "plt.gca().set_xscale(\"log\")\n",
        "plt.title('Histogram of Overall revenue')\n",
        "plt.xlabel('Revenue per Account (in Dollars)')\n",
        "plt.figure()\n",
        "\n",
        "plt.hist(df_assumption1[df_assumption1['assigned'] == 1]['revenue'], bins=np.logspace(np.log10(10000),np.log10(10000000000), 50), facecolor='purple', alpha=0.7, rwidth = 1)\n",
        "plt.gca().set_xscale(\"log\")\n",
        "plt.title('Histogram of revenue of assigned leads')\n",
        "plt.xlabel('Revenue per Account (in Dollars)')\n",
        "plt.figure()\n",
        "\n",
        "plt.hist(df_assumption1[df_assumption1['assigned'] == 0]['revenue'], bins=np.logspace(np.log10(10000),np.log10(10000000000), 50), facecolor='green', alpha=0.7, rwidth = 1)\n",
        "plt.gca().set_xscale(\"log\")\n",
        "plt.title('Histogram of revenue of un-assigned leads')\n",
        "plt.xlabel('Revenue per Account (in Dollars)')\n",
        "plt.figure()"
      ],
      "execution_count": 43,
      "outputs": [
        {
          "output_type": "display_data",
          "data": {
            "image/png": "[encoded data removed]",
            "text/plain": [
              "<Figure size 432x288 with 1 Axes>"
            ]
          },
          "metadata": {
            "tags": [],
            "needs_background": "light"
          }
        },
        {
          "output_type": "stream",
          "text": [
            "count    3.340000e+03\n",
            "mean     4.865177e+07\n",
            "std      1.736891e+08\n",
            "min      1.200000e+04\n",
            "25%      6.398444e+06\n",
            "50%      1.514775e+07\n",
            "75%      3.704959e+07\n",
            "max      6.533791e+09\n",
            "Name: revenue, dtype: float64\n",
            "\n",
            "Skewness observed in revenue data :  19.73\n"
          ],
          "name": "stdout"
        },
        {
          "output_type": "execute_result",
          "data": {
            "text/plain": [
              "<Figure size 432x288 with 0 Axes>"
            ]
          },
          "metadata": {
            "tags": []
          },
          "execution_count": 43
        },
        {
          "output_type": "display_data",
          "data": {
            "image/png": "[encoded data removed]",
            "text/plain": [
              "<Figure size 432x288 with 1 Axes>"
            ]
          },
          "metadata": {
            "tags": [],
            "needs_background": "light"
          }
        },
        {
          "output_type": "display_data",
          "data": {
            "image/png": "[encoded data removed]",
            "text/plain": [
              "<Figure size 432x288 with 1 Axes>"
            ]
          },
          "metadata": {
            "tags": [],
            "needs_background": "light"
          }
        },
        {
          "output_type": "display_data",
          "data": {
            "image/png": "[encoded data removed]",
            "text/plain": [
              "<Figure size 432x288 with 1 Axes>"
            ]
          },
          "metadata": {
            "tags": [],
            "needs_background": "light"
          }
        },
        {
          "output_type": "display_data",
          "data": {
            "text/plain": [
              "<Figure size 432x288 with 0 Axes>"
            ]
          },
          "metadata": {
            "tags": []
          }
        }
      ]
    },
    {
      "cell_type": "code",
      "metadata": {
        "id": "Eh1McqgXwag9"
      },
      "source": [
        ""
      ],
      "execution_count": null,
      "outputs": []
    },
    {
      "cell_type": "code",
      "metadata": {
        "colab": {
          "base_uri": "https://localhost:8080/",
          "height": 731
        },
        "id": "AlzHMvEPwQEB",
        "outputId": "5f3f3826-7616-4eb6-afc7-cb6d8fbb148a"
      },
      "source": [
        "from scipy.stats import pearsonr\n",
        "df_assumption1 = df[df['revenue'] > 0].copy()\n",
        "df_assumption1['age_groups'] = pd.cut(df_assumption1['age'], bins = np.arange(-28,3856,365))\n",
        "plt.figure(figsize=(16,12))\n",
        "sns.boxplot(x=\"age_groups\", y=np.log10(df_assumption1['revenue']), hue=\"assigned\",data=df_assumption1, palette=\"coolwarm\")"
      ],
      "execution_count": 47,
      "outputs": [
        {
          "output_type": "execute_result",
          "data": {
            "text/plain": [
              "<matplotlib.axes._subplots.AxesSubplot at 0x7f1c0c202510>"
            ]
          },
          "metadata": {
            "tags": []
          },
          "execution_count": 47
        },
        {
          "output_type": "display_data",
          "data": {
            "image/png": "[encoded data removed]",
            "text/plain": [
              "<Figure size 1152x864 with 1 Axes>"
            ]
          },
          "metadata": {
            "tags": [],
            "needs_background": "light"
          }
        }
      ]
    },
    {
      "cell_type": "code",
      "metadata": {
        "colab": {
          "base_uri": "https://localhost:8080/",
          "height": 477
        },
        "id": "eq1y7Pqah7dg",
        "outputId": "c7f2fb7a-91ac-403c-afb5-26de1dc17ae3"
      },
      "source": [
        "# Checking misssing revenue values for assigned leads versus non-assigned leads\n",
        "df_assumption1 = df[df['revenue'] > 0].copy()\n",
        "df_assumption1['age_groups'] = pd.cut(df_assumption1['age'], bins = np.arange(-28,3856,365))\n",
        "g = sns.factorplot(data = df_assumption1, x = 'age_groups', y = 'revenue', hue=\"assigned\", saturation=.5,\\\n",
        "               kind=\"bar\", ci=95, aspect=3, size = 6)\n",
        "g.set_axis_labels(\"Age, years\", \"Revenue, $\").set_xticklabels([\"1\", \"2\", \"3\", \"4\", \"5\", \"6\", \"7\", \"8\", \"9\", \"10\"])\n",
        "plt.title('Average revenue for different account ages')"
      ],
      "execution_count": 28,
      "outputs": [
        {
          "output_type": "execute_result",
          "data": {
            "text/plain": [
              "Text(0.5, 1.0, 'Average revenue for different account ages')"
            ]
          },
          "metadata": {
            "tags": []
          },
          "execution_count": 28
        },
        {
          "output_type": "display_data",
          "data": {
            "image/png": "[encoded data removed]",
            "text/plain": [
              "<Figure size 1348.75x432 with 1 Axes>"
            ]
          },
          "metadata": {
            "tags": [],
            "needs_background": "light"
          }
        }
      ]
    },
    {
      "cell_type": "code",
      "metadata": {
        "colab": {
          "base_uri": "https://localhost:8080/",
          "height": 639
        },
        "id": "t0eGaMwPrbu8",
        "outputId": "ef17e3f4-7fe3-4dcd-8e7d-d6240de8a2dc"
      },
      "source": [
        "# Binning age attribute to seggregate into age groups; We have 10 different age group binned across assignmed category;\n",
        "df_assumption1['age_groups'] = pd.cut(df_assumption1['age'], bins = np.arange(-28,3856,365))\n",
        "df_assumption1['age_groups'].value_counts()\n",
        "df_assumption1.groupby(['assigned', 'age_groups']).agg({ 'advertiser_id': 'count', 'revenue':'mean',}).astype('float64').reset_index()"
      ],
      "execution_count": null,
      "outputs": [
        {
          "output_type": "execute_result",
          "data": {
            "text/html": [
              "<div>\n",
              "<style scoped>\n",
              "    .dataframe tbody tr th:only-of-type {\n",
              "        vertical-align: middle;\n",
              "    }\n",
              "\n",
              "    .dataframe tbody tr th {\n",
              "        vertical-align: top;\n",
              "    }\n",
              "\n",
              "    .dataframe thead th {\n",
              "        text-align: right;\n",
              "    }\n",
              "</style>\n",
              "<table border=\"1\" class=\"dataframe\">\n",
              "  <thead>\n",
              "    <tr style=\"text-align: right;\">\n",
              "      <th></th>\n",
              "      <th>assigned</th>\n",
              "      <th>age_groups</th>\n",
              "      <th>advertiser_id</th>\n",
              "      <th>revenue</th>\n",
              "    </tr>\n",
              "  </thead>\n",
              "  <tbody>\n",
              "    <tr>\n",
              "      <th>0</th>\n",
              "      <td>0</td>\n",
              "      <td>(-28, 337]</td>\n",
              "      <td>1731.0</td>\n",
              "      <td>2.395796e+07</td>\n",
              "    </tr>\n",
              "    <tr>\n",
              "      <th>1</th>\n",
              "      <td>0</td>\n",
              "      <td>(337, 702]</td>\n",
              "      <td>15.0</td>\n",
              "      <td>2.326418e+07</td>\n",
              "    </tr>\n",
              "    <tr>\n",
              "      <th>2</th>\n",
              "      <td>0</td>\n",
              "      <td>(702, 1067]</td>\n",
              "      <td>19.0</td>\n",
              "      <td>1.823070e+07</td>\n",
              "    </tr>\n",
              "    <tr>\n",
              "      <th>3</th>\n",
              "      <td>0</td>\n",
              "      <td>(1067, 1432]</td>\n",
              "      <td>9.0</td>\n",
              "      <td>2.579433e+07</td>\n",
              "    </tr>\n",
              "    <tr>\n",
              "      <th>4</th>\n",
              "      <td>0</td>\n",
              "      <td>(1432, 1797]</td>\n",
              "      <td>0.0</td>\n",
              "      <td>NaN</td>\n",
              "    </tr>\n",
              "    <tr>\n",
              "      <th>5</th>\n",
              "      <td>0</td>\n",
              "      <td>(1797, 2162]</td>\n",
              "      <td>1.0</td>\n",
              "      <td>4.983000e+06</td>\n",
              "    </tr>\n",
              "    <tr>\n",
              "      <th>6</th>\n",
              "      <td>0</td>\n",
              "      <td>(2162, 2527]</td>\n",
              "      <td>0.0</td>\n",
              "      <td>NaN</td>\n",
              "    </tr>\n",
              "    <tr>\n",
              "      <th>7</th>\n",
              "      <td>0</td>\n",
              "      <td>(2527, 2892]</td>\n",
              "      <td>0.0</td>\n",
              "      <td>NaN</td>\n",
              "    </tr>\n",
              "    <tr>\n",
              "      <th>8</th>\n",
              "      <td>0</td>\n",
              "      <td>(2892, 3257]</td>\n",
              "      <td>0.0</td>\n",
              "      <td>NaN</td>\n",
              "    </tr>\n",
              "    <tr>\n",
              "      <th>9</th>\n",
              "      <td>0</td>\n",
              "      <td>(3257, 3622]</td>\n",
              "      <td>0.0</td>\n",
              "      <td>NaN</td>\n",
              "    </tr>\n",
              "    <tr>\n",
              "      <th>10</th>\n",
              "      <td>1</td>\n",
              "      <td>(-28, 337]</td>\n",
              "      <td>813.0</td>\n",
              "      <td>5.354200e+07</td>\n",
              "    </tr>\n",
              "    <tr>\n",
              "      <th>11</th>\n",
              "      <td>1</td>\n",
              "      <td>(337, 702]</td>\n",
              "      <td>306.0</td>\n",
              "      <td>8.128602e+07</td>\n",
              "    </tr>\n",
              "    <tr>\n",
              "      <th>12</th>\n",
              "      <td>1</td>\n",
              "      <td>(702, 1067]</td>\n",
              "      <td>224.0</td>\n",
              "      <td>9.509629e+07</td>\n",
              "    </tr>\n",
              "    <tr>\n",
              "      <th>13</th>\n",
              "      <td>1</td>\n",
              "      <td>(1067, 1432]</td>\n",
              "      <td>121.0</td>\n",
              "      <td>9.379932e+07</td>\n",
              "    </tr>\n",
              "    <tr>\n",
              "      <th>14</th>\n",
              "      <td>1</td>\n",
              "      <td>(1432, 1797]</td>\n",
              "      <td>71.0</td>\n",
              "      <td>1.563850e+08</td>\n",
              "    </tr>\n",
              "    <tr>\n",
              "      <th>15</th>\n",
              "      <td>1</td>\n",
              "      <td>(1797, 2162]</td>\n",
              "      <td>22.0</td>\n",
              "      <td>2.522057e+08</td>\n",
              "    </tr>\n",
              "    <tr>\n",
              "      <th>16</th>\n",
              "      <td>1</td>\n",
              "      <td>(2162, 2527]</td>\n",
              "      <td>3.0</td>\n",
              "      <td>8.994033e+07</td>\n",
              "    </tr>\n",
              "    <tr>\n",
              "      <th>17</th>\n",
              "      <td>1</td>\n",
              "      <td>(2527, 2892]</td>\n",
              "      <td>1.0</td>\n",
              "      <td>7.235660e+08</td>\n",
              "    </tr>\n",
              "    <tr>\n",
              "      <th>18</th>\n",
              "      <td>1</td>\n",
              "      <td>(2892, 3257]</td>\n",
              "      <td>3.0</td>\n",
              "      <td>2.287960e+08</td>\n",
              "    </tr>\n",
              "    <tr>\n",
              "      <th>19</th>\n",
              "      <td>1</td>\n",
              "      <td>(3257, 3622]</td>\n",
              "      <td>1.0</td>\n",
              "      <td>7.071000e+08</td>\n",
              "    </tr>\n",
              "  </tbody>\n",
              "</table>\n",
              "</div>"
            ],
            "text/plain": [
              "    assigned    age_groups  advertiser_id       revenue\n",
              "0          0    (-28, 337]         1731.0  2.395796e+07\n",
              "1          0    (337, 702]           15.0  2.326418e+07\n",
              "2          0   (702, 1067]           19.0  1.823070e+07\n",
              "3          0  (1067, 1432]            9.0  2.579433e+07\n",
              "4          0  (1432, 1797]            0.0           NaN\n",
              "5          0  (1797, 2162]            1.0  4.983000e+06\n",
              "6          0  (2162, 2527]            0.0           NaN\n",
              "7          0  (2527, 2892]            0.0           NaN\n",
              "8          0  (2892, 3257]            0.0           NaN\n",
              "9          0  (3257, 3622]            0.0           NaN\n",
              "10         1    (-28, 337]          813.0  5.354200e+07\n",
              "11         1    (337, 702]          306.0  8.128602e+07\n",
              "12         1   (702, 1067]          224.0  9.509629e+07\n",
              "13         1  (1067, 1432]          121.0  9.379932e+07\n",
              "14         1  (1432, 1797]           71.0  1.563850e+08\n",
              "15         1  (1797, 2162]           22.0  2.522057e+08\n",
              "16         1  (2162, 2527]            3.0  8.994033e+07\n",
              "17         1  (2527, 2892]            1.0  7.235660e+08\n",
              "18         1  (2892, 3257]            3.0  2.287960e+08\n",
              "19         1  (3257, 3622]            1.0  7.071000e+08"
            ]
          },
          "metadata": {
            "tags": []
          },
          "execution_count": 18
        }
      ]
    },
    {
      "cell_type": "code",
      "metadata": {
        "colab": {
          "base_uri": "https://localhost:8080/",
          "height": 477
        },
        "id": "Dx-a75Mzg7o5",
        "outputId": "fdcb5717-2e0c-41f0-f2c3-87f0c6120cd7"
      },
      "source": [
        "# When all the revenue values are included in the analysis;\n",
        "df_assumption2 = df.copy()\n",
        "df_assumption2['age_groups'] = pd.cut(df_assumption2['age'], bins = np.arange(-28,4000,365))\n",
        "g = sns.factorplot(data = df_assumption2, x = 'age_groups', y = 'revenue', hue=\"assigned\", saturation=.5,\\\n",
        "               kind=\"bar\", ci=95, aspect=3, size = 6)\n",
        "g.set_axis_labels(\"Age, years\", \"Revenue, mlns\").set_xticklabels([\"1\", \"2\", \"3\", \"4\", \"5\", \"6\", \"7\", \"8\", \"9\", \"10\"])\n",
        "plt.title('Average revenue for different account ages')"
      ],
      "execution_count": null,
      "outputs": [
        {
          "output_type": "execute_result",
          "data": {
            "text/plain": [
              "Text(0.5, 1.0, 'Average revenue for different account ages')"
            ]
          },
          "metadata": {
            "tags": []
          },
          "execution_count": 19
        },
        {
          "output_type": "display_data",
          "data": {
            "image/png": "[encoded data removed]",
            "text/plain": [
              "<Figure size 1348.75x432 with 1 Axes>"
            ]
          },
          "metadata": {
            "tags": [],
            "needs_background": "light"
          }
        }
      ]
    },
    {
      "cell_type": "markdown",
      "metadata": {
        "id": "erlMtN9-LSjW"
      },
      "source": [
        "\n",
        "\n",
        "```\n",
        "**# Question 4**\n",
        "** Incremental value of assiging a lead to the sales team can broken into two scenarios\n",
        "Scenario1 - When revenue is greater than zero (df_Assumption1)\n",
        "Scenario2 - When zero revenue values are included/replacing the null revenue values to zero (df_Assumption2)```\n",
        "** We are using Z-statistics to evaluate  the incremental revenue impact. Z-statistics is primarily used when the same size is large(~greater than 30) and the population standard deviation is know to us. Given the above scenarios being satisfied we use Z-statistics to model our results.\n",
        "```\n",
        "\n"
      ]
    },
    {
      "cell_type": "code",
      "metadata": {
        "colab": {
          "base_uri": "https://localhost:8080/",
          "height": 373
        },
        "id": "gn-bvecUizHb",
        "outputId": "b99c8cc4-8560-4e3b-a538-7ba0185d818d"
      },
      "source": [
        "# Scenario 1 - Where revenue greater than 0;\n",
        "\n",
        "age_groups_A1 = df_assumption1[df_assumption1['assigned'] == 1].groupby(by = 'age_groups')['revenue']\n",
        "age_groups_U1 = df_assumption1[df_assumption1['assigned'] == 0].groupby(by = 'age_groups')['revenue']\n",
        "a1 = age_groups_A1.mean() \n",
        "b1 = age_groups_A1.count()\n",
        "c1 = age_groups_U1.mean()\n",
        "d1 = age_groups_U1.count()\n",
        "data = pd.DataFrame({'A.Average_Revenue_assigned': a1, 'B.Count': b1,'C.Average_Revenue_unassigned' : c1, 'D.Count': d1})\n",
        "data"
      ],
      "execution_count": null,
      "outputs": [
        {
          "output_type": "execute_result",
          "data": {
            "text/html": [
              "<div>\n",
              "<style scoped>\n",
              "    .dataframe tbody tr th:only-of-type {\n",
              "        vertical-align: middle;\n",
              "    }\n",
              "\n",
              "    .dataframe tbody tr th {\n",
              "        vertical-align: top;\n",
              "    }\n",
              "\n",
              "    .dataframe thead th {\n",
              "        text-align: right;\n",
              "    }\n",
              "</style>\n",
              "<table border=\"1\" class=\"dataframe\">\n",
              "  <thead>\n",
              "    <tr style=\"text-align: right;\">\n",
              "      <th></th>\n",
              "      <th>A.Average_Revenue_assigned</th>\n",
              "      <th>B.Count</th>\n",
              "      <th>C.Average_Revenue_unassigned</th>\n",
              "      <th>D.Count</th>\n",
              "    </tr>\n",
              "    <tr>\n",
              "      <th>age_groups</th>\n",
              "      <th></th>\n",
              "      <th></th>\n",
              "      <th></th>\n",
              "      <th></th>\n",
              "    </tr>\n",
              "  </thead>\n",
              "  <tbody>\n",
              "    <tr>\n",
              "      <th>(-28, 337]</th>\n",
              "      <td>5.354200e+07</td>\n",
              "      <td>813</td>\n",
              "      <td>2.395796e+07</td>\n",
              "      <td>1731</td>\n",
              "    </tr>\n",
              "    <tr>\n",
              "      <th>(337, 702]</th>\n",
              "      <td>8.128602e+07</td>\n",
              "      <td>306</td>\n",
              "      <td>2.326418e+07</td>\n",
              "      <td>15</td>\n",
              "    </tr>\n",
              "    <tr>\n",
              "      <th>(702, 1067]</th>\n",
              "      <td>9.509629e+07</td>\n",
              "      <td>224</td>\n",
              "      <td>1.823070e+07</td>\n",
              "      <td>19</td>\n",
              "    </tr>\n",
              "    <tr>\n",
              "      <th>(1067, 1432]</th>\n",
              "      <td>9.379932e+07</td>\n",
              "      <td>121</td>\n",
              "      <td>2.579433e+07</td>\n",
              "      <td>9</td>\n",
              "    </tr>\n",
              "    <tr>\n",
              "      <th>(1432, 1797]</th>\n",
              "      <td>1.563850e+08</td>\n",
              "      <td>71</td>\n",
              "      <td>NaN</td>\n",
              "      <td>0</td>\n",
              "    </tr>\n",
              "    <tr>\n",
              "      <th>(1797, 2162]</th>\n",
              "      <td>2.522057e+08</td>\n",
              "      <td>22</td>\n",
              "      <td>4.983000e+06</td>\n",
              "      <td>1</td>\n",
              "    </tr>\n",
              "    <tr>\n",
              "      <th>(2162, 2527]</th>\n",
              "      <td>8.994033e+07</td>\n",
              "      <td>3</td>\n",
              "      <td>NaN</td>\n",
              "      <td>0</td>\n",
              "    </tr>\n",
              "    <tr>\n",
              "      <th>(2527, 2892]</th>\n",
              "      <td>7.235660e+08</td>\n",
              "      <td>1</td>\n",
              "      <td>NaN</td>\n",
              "      <td>0</td>\n",
              "    </tr>\n",
              "    <tr>\n",
              "      <th>(2892, 3257]</th>\n",
              "      <td>2.287960e+08</td>\n",
              "      <td>3</td>\n",
              "      <td>NaN</td>\n",
              "      <td>0</td>\n",
              "    </tr>\n",
              "    <tr>\n",
              "      <th>(3257, 3622]</th>\n",
              "      <td>7.071000e+08</td>\n",
              "      <td>1</td>\n",
              "      <td>NaN</td>\n",
              "      <td>0</td>\n",
              "    </tr>\n",
              "  </tbody>\n",
              "</table>\n",
              "</div>"
            ],
            "text/plain": [
              "              A.Average_Revenue_assigned  ...  D.Count\n",
              "age_groups                                ...         \n",
              "(-28, 337]                  5.354200e+07  ...     1731\n",
              "(337, 702]                  8.128602e+07  ...       15\n",
              "(702, 1067]                 9.509629e+07  ...       19\n",
              "(1067, 1432]                9.379932e+07  ...        9\n",
              "(1432, 1797]                1.563850e+08  ...        0\n",
              "(1797, 2162]                2.522057e+08  ...        1\n",
              "(2162, 2527]                8.994033e+07  ...        0\n",
              "(2527, 2892]                7.235660e+08  ...        0\n",
              "(2892, 3257]                2.287960e+08  ...        0\n",
              "(3257, 3622]                7.071000e+08  ...        0\n",
              "\n",
              "[10 rows x 4 columns]"
            ]
          },
          "metadata": {
            "tags": []
          },
          "execution_count": 23
        }
      ]
    },
    {
      "cell_type": "code",
      "metadata": {
        "colab": {
          "base_uri": "https://localhost:8080/",
          "height": 373
        },
        "id": "HqaBuO5Gks7G",
        "outputId": "c0c7dc21-3a89-45a2-d1f5-2893a99e18cf"
      },
      "source": [
        "avg_A_Dlrs1 = age_groups_A1.mean()\n",
        "avg_U_Dlrs1 = age_groups_U1.mean()\n",
        "\n",
        "Conf_table1 = pd.DataFrame({'Avg_A_Dlrs': avg_A_Dlrs1, 'Avg_U_Dlrs': avg_U_Dlrs1})\n",
        "\n",
        "Conf_table1['Difference_Dlrs'] = Conf_table1['Avg_A_Dlrs'] - Conf_table1['Avg_U_Dlrs']\n",
        "\n",
        "Conf_table1['Count_A'] = age_groups_A1.count()\n",
        "Conf_table1['Count_U'] = age_groups_U1.count()\n",
        "\n",
        "Variance_A = age_groups_A1.var()\n",
        "Variance_U = age_groups_U1.var()\n",
        "\n",
        "st_dev = (Variance_A/Conf_table1['Count_A']+ Variance_U/Conf_table1['Count_U'])\n",
        "\n",
        "Conf_table1['St_dev_sampling_distr'] = np.sqrt(st_dev)\n",
        "\n",
        "Conf_table1['Conf_interval_from'] = Conf_table1['Difference_Dlrs'] - 1.96 * Conf_table1['St_dev_sampling_distr']\n",
        "Conf_table1['Conf_interval_to'] = Conf_table1['Difference_Dlrs'] + 1.96 * Conf_table1['St_dev_sampling_distr']\n",
        "\n",
        "Conf_table1 # Printing the confidence table to show the incremental revenue impact for leads assigned and leads not assigned;"
      ],
      "execution_count": null,
      "outputs": [
        {
          "output_type": "execute_result",
          "data": {
            "text/html": [
              "<div>\n",
              "<style scoped>\n",
              "    .dataframe tbody tr th:only-of-type {\n",
              "        vertical-align: middle;\n",
              "    }\n",
              "\n",
              "    .dataframe tbody tr th {\n",
              "        vertical-align: top;\n",
              "    }\n",
              "\n",
              "    .dataframe thead th {\n",
              "        text-align: right;\n",
              "    }\n",
              "</style>\n",
              "<table border=\"1\" class=\"dataframe\">\n",
              "  <thead>\n",
              "    <tr style=\"text-align: right;\">\n",
              "      <th></th>\n",
              "      <th>Avg_A_Dlrs</th>\n",
              "      <th>Avg_U_Dlrs</th>\n",
              "      <th>Difference_Dlrs</th>\n",
              "      <th>Count_A</th>\n",
              "      <th>Count_U</th>\n",
              "      <th>St_dev_sampling_distr</th>\n",
              "      <th>Conf_interval_from</th>\n",
              "      <th>Conf_interval_to</th>\n",
              "    </tr>\n",
              "    <tr>\n",
              "      <th>age_groups</th>\n",
              "      <th></th>\n",
              "      <th></th>\n",
              "      <th></th>\n",
              "      <th></th>\n",
              "      <th></th>\n",
              "      <th></th>\n",
              "      <th></th>\n",
              "      <th></th>\n",
              "    </tr>\n",
              "  </thead>\n",
              "  <tbody>\n",
              "    <tr>\n",
              "      <th>(-28, 337]</th>\n",
              "      <td>5.354200e+07</td>\n",
              "      <td>2.395796e+07</td>\n",
              "      <td>2.958403e+07</td>\n",
              "      <td>813</td>\n",
              "      <td>1731</td>\n",
              "      <td>5.799476e+06</td>\n",
              "      <td>1.821706e+07</td>\n",
              "      <td>4.095100e+07</td>\n",
              "    </tr>\n",
              "    <tr>\n",
              "      <th>(337, 702]</th>\n",
              "      <td>8.128602e+07</td>\n",
              "      <td>2.326418e+07</td>\n",
              "      <td>5.802184e+07</td>\n",
              "      <td>306</td>\n",
              "      <td>15</td>\n",
              "      <td>1.637644e+07</td>\n",
              "      <td>2.592402e+07</td>\n",
              "      <td>9.011967e+07</td>\n",
              "    </tr>\n",
              "    <tr>\n",
              "      <th>(702, 1067]</th>\n",
              "      <td>9.509629e+07</td>\n",
              "      <td>1.823070e+07</td>\n",
              "      <td>7.686559e+07</td>\n",
              "      <td>224</td>\n",
              "      <td>19</td>\n",
              "      <td>1.518949e+07</td>\n",
              "      <td>4.709418e+07</td>\n",
              "      <td>1.066370e+08</td>\n",
              "    </tr>\n",
              "    <tr>\n",
              "      <th>(1067, 1432]</th>\n",
              "      <td>9.379932e+07</td>\n",
              "      <td>2.579433e+07</td>\n",
              "      <td>6.800498e+07</td>\n",
              "      <td>121</td>\n",
              "      <td>9</td>\n",
              "      <td>1.655770e+07</td>\n",
              "      <td>3.555189e+07</td>\n",
              "      <td>1.004581e+08</td>\n",
              "    </tr>\n",
              "    <tr>\n",
              "      <th>(1432, 1797]</th>\n",
              "      <td>1.563850e+08</td>\n",
              "      <td>NaN</td>\n",
              "      <td>NaN</td>\n",
              "      <td>71</td>\n",
              "      <td>0</td>\n",
              "      <td>NaN</td>\n",
              "      <td>NaN</td>\n",
              "      <td>NaN</td>\n",
              "    </tr>\n",
              "    <tr>\n",
              "      <th>(1797, 2162]</th>\n",
              "      <td>2.522057e+08</td>\n",
              "      <td>4.983000e+06</td>\n",
              "      <td>2.472227e+08</td>\n",
              "      <td>22</td>\n",
              "      <td>1</td>\n",
              "      <td>NaN</td>\n",
              "      <td>NaN</td>\n",
              "      <td>NaN</td>\n",
              "    </tr>\n",
              "    <tr>\n",
              "      <th>(2162, 2527]</th>\n",
              "      <td>8.994033e+07</td>\n",
              "      <td>NaN</td>\n",
              "      <td>NaN</td>\n",
              "      <td>3</td>\n",
              "      <td>0</td>\n",
              "      <td>NaN</td>\n",
              "      <td>NaN</td>\n",
              "      <td>NaN</td>\n",
              "    </tr>\n",
              "    <tr>\n",
              "      <th>(2527, 2892]</th>\n",
              "      <td>7.235660e+08</td>\n",
              "      <td>NaN</td>\n",
              "      <td>NaN</td>\n",
              "      <td>1</td>\n",
              "      <td>0</td>\n",
              "      <td>NaN</td>\n",
              "      <td>NaN</td>\n",
              "      <td>NaN</td>\n",
              "    </tr>\n",
              "    <tr>\n",
              "      <th>(2892, 3257]</th>\n",
              "      <td>2.287960e+08</td>\n",
              "      <td>NaN</td>\n",
              "      <td>NaN</td>\n",
              "      <td>3</td>\n",
              "      <td>0</td>\n",
              "      <td>NaN</td>\n",
              "      <td>NaN</td>\n",
              "      <td>NaN</td>\n",
              "    </tr>\n",
              "    <tr>\n",
              "      <th>(3257, 3622]</th>\n",
              "      <td>7.071000e+08</td>\n",
              "      <td>NaN</td>\n",
              "      <td>NaN</td>\n",
              "      <td>1</td>\n",
              "      <td>0</td>\n",
              "      <td>NaN</td>\n",
              "      <td>NaN</td>\n",
              "      <td>NaN</td>\n",
              "    </tr>\n",
              "  </tbody>\n",
              "</table>\n",
              "</div>"
            ],
            "text/plain": [
              "                Avg_A_Dlrs    Avg_U_Dlrs  ...  Conf_interval_from  Conf_interval_to\n",
              "age_groups                                ...                                      \n",
              "(-28, 337]    5.354200e+07  2.395796e+07  ...        1.821706e+07      4.095100e+07\n",
              "(337, 702]    8.128602e+07  2.326418e+07  ...        2.592402e+07      9.011967e+07\n",
              "(702, 1067]   9.509629e+07  1.823070e+07  ...        4.709418e+07      1.066370e+08\n",
              "(1067, 1432]  9.379932e+07  2.579433e+07  ...        3.555189e+07      1.004581e+08\n",
              "(1432, 1797]  1.563850e+08           NaN  ...                 NaN               NaN\n",
              "(1797, 2162]  2.522057e+08  4.983000e+06  ...                 NaN               NaN\n",
              "(2162, 2527]  8.994033e+07           NaN  ...                 NaN               NaN\n",
              "(2527, 2892]  7.235660e+08           NaN  ...                 NaN               NaN\n",
              "(2892, 3257]  2.287960e+08           NaN  ...                 NaN               NaN\n",
              "(3257, 3622]  7.071000e+08           NaN  ...                 NaN               NaN\n",
              "\n",
              "[10 rows x 8 columns]"
            ]
          },
          "metadata": {
            "tags": []
          },
          "execution_count": 27
        }
      ]
    },
    {
      "cell_type": "markdown",
      "metadata": {
        "id": "f3UsdtMrM6Ny"
      },
      "source": [
        ""
      ]
    },
    {
      "cell_type": "markdown",
      "metadata": {
        "id": "mwfiaF96M63f"
      },
      "source": [
        "```\n",
        "### ** Results Summary **:\n",
        "1. The results show the z-score calculation for 95% confidence interval for incremental impact in revenue for leads assigned and leads un-assigned.\n",
        "2. Based on assumption 1 (When only positive revenue values are considered); the revenue difference (in millions) between assigned and un-assigned leads are as follows for different age groups;\n",
        "  1. YEAR 1 - from +18.2M to +41M\n",
        "  2. YEAR 2 - from +26M to +90.1M\n",
        "  3. YEAR 3 - from +47M to +106.6M    \n",
        "  4. YEAR 4 - from +35.5M to +100.5M (Not enough un-assigned samples to derive  a conclusion)\n",
        "3. From our analysis, based on 95% confidence interval leads with age 1-3 will have a positive incremental revenue impact.\n",
        "```"
      ]
    },
    {
      "cell_type": "code",
      "metadata": {
        "colab": {
          "base_uri": "https://localhost:8080/",
          "height": 402
        },
        "id": "NV3VhsYrpAJC",
        "outputId": "6a6b62e9-a3e3-4018-b547-91d6a1db0ca3"
      },
      "source": [
        "# Scenario - 2: When missing revenue values are encoded as zero's\n",
        "\n",
        "age_groups_A2 = df_assumption2[df_assumption2['assigned'] == 1].groupby(by = 'age_groups')['revenue']\n",
        "age_groups_U2 = df_assumption2[df_assumption2['assigned'] == 0].groupby(by = 'age_groups')['revenue']\n",
        "\n",
        "avg_A_Dlrs2 = age_groups_A2.mean()\n",
        "avg_U_Dlrs2 = age_groups_U2.mean()\n",
        "\n",
        "Z_Confidence_table = pd.DataFrame({'Avg_A_Dlrs': avg_A_Dlrs2, 'Avg_U_Dlrs': avg_U_Dlrs2})\n",
        "\n",
        "Z_Confidence_table['Difference_Dlrs'] = Z_Confidence_table['Avg_A_Dlrs'] - Z_Confidence_table['Avg_U_Dlrs']\n",
        "\n",
        "Z_Confidence_table['Count_A'] = age_groups_A2.count()\n",
        "Z_Confidence_table['Count_U'] = age_groups_U2.count()\n",
        "\n",
        "Variance_A = age_groups_A2.var()\n",
        "Variance_U = age_groups_U2.var()\n",
        "\n",
        "st_dev = (Variance_A/Z_Confidence_table['Count_A']+ Variance_U/Z_Confidence_table['Count_U'])\n",
        "\n",
        "Z_Confidence_table['St_dev_sampling_distr'] = np.sqrt(st_dev)\n",
        "\n",
        "Z_Confidence_table['Conf_interval_from'] = (Z_Confidence_table['Difference_Dlrs'] - 1.96 * Z_Confidence_table['St_dev_sampling_distr']).astype('float64')\n",
        "# Z-score for 95 % confidence interval 1.96\n",
        "Z_Confidence_table['Conf_interval_to'] = (Z_Confidence_table['Difference_Dlrs'] + 1.96 * Z_Confidence_table['St_dev_sampling_distr']).astype('float64')\n",
        "Z_Confidence_table"
      ],
      "execution_count": null,
      "outputs": [
        {
          "output_type": "execute_result",
          "data": {
            "text/html": [
              "<div>\n",
              "<style scoped>\n",
              "    .dataframe tbody tr th:only-of-type {\n",
              "        vertical-align: middle;\n",
              "    }\n",
              "\n",
              "    .dataframe tbody tr th {\n",
              "        vertical-align: top;\n",
              "    }\n",
              "\n",
              "    .dataframe thead th {\n",
              "        text-align: right;\n",
              "    }\n",
              "</style>\n",
              "<table border=\"1\" class=\"dataframe\">\n",
              "  <thead>\n",
              "    <tr style=\"text-align: right;\">\n",
              "      <th></th>\n",
              "      <th>Avg_A_Dlrs</th>\n",
              "      <th>Avg_U_Dlrs</th>\n",
              "      <th>Difference_Dlrs</th>\n",
              "      <th>Count_A</th>\n",
              "      <th>Count_U</th>\n",
              "      <th>St_dev_sampling_distr</th>\n",
              "      <th>Conf_interval_from</th>\n",
              "      <th>Conf_interval_to</th>\n",
              "    </tr>\n",
              "    <tr>\n",
              "      <th>age_groups</th>\n",
              "      <th></th>\n",
              "      <th></th>\n",
              "      <th></th>\n",
              "      <th></th>\n",
              "      <th></th>\n",
              "      <th></th>\n",
              "      <th></th>\n",
              "      <th></th>\n",
              "    </tr>\n",
              "  </thead>\n",
              "  <tbody>\n",
              "    <tr>\n",
              "      <th>(-28, 337]</th>\n",
              "      <td>3.304961e+06</td>\n",
              "      <td>1.029037e+06</td>\n",
              "      <td>2.275924e+06</td>\n",
              "      <td>13171</td>\n",
              "      <td>40301</td>\n",
              "      <td>3.351671e+05</td>\n",
              "      <td>1.618996e+06</td>\n",
              "      <td>2.932851e+06</td>\n",
              "    </tr>\n",
              "    <tr>\n",
              "      <th>(337, 702]</th>\n",
              "      <td>2.580509e+06</td>\n",
              "      <td>1.292455e+06</td>\n",
              "      <td>1.288054e+06</td>\n",
              "      <td>9639</td>\n",
              "      <td>270</td>\n",
              "      <td>7.987882e+05</td>\n",
              "      <td>-2.775706e+05</td>\n",
              "      <td>2.853679e+06</td>\n",
              "    </tr>\n",
              "    <tr>\n",
              "      <th>(702, 1067]</th>\n",
              "      <td>3.461418e+06</td>\n",
              "      <td>2.749074e+06</td>\n",
              "      <td>7.123446e+05</td>\n",
              "      <td>6154</td>\n",
              "      <td>126</td>\n",
              "      <td>1.041574e+06</td>\n",
              "      <td>-1.329141e+06</td>\n",
              "      <td>2.753831e+06</td>\n",
              "    </tr>\n",
              "    <tr>\n",
              "      <th>(1067, 1432]</th>\n",
              "      <td>2.721755e+06</td>\n",
              "      <td>2.763679e+06</td>\n",
              "      <td>-4.192386e+04</td>\n",
              "      <td>4170</td>\n",
              "      <td>84</td>\n",
              "      <td>1.200151e+06</td>\n",
              "      <td>-2.394220e+06</td>\n",
              "      <td>2.310372e+06</td>\n",
              "    </tr>\n",
              "    <tr>\n",
              "      <th>(1432, 1797]</th>\n",
              "      <td>3.239958e+06</td>\n",
              "      <td>0.000000e+00</td>\n",
              "      <td>3.239958e+06</td>\n",
              "      <td>3427</td>\n",
              "      <td>22</td>\n",
              "      <td>9.326463e+05</td>\n",
              "      <td>1.411971e+06</td>\n",
              "      <td>5.067944e+06</td>\n",
              "    </tr>\n",
              "    <tr>\n",
              "      <th>(1797, 2162]</th>\n",
              "      <td>2.062649e+07</td>\n",
              "      <td>1.661000e+06</td>\n",
              "      <td>1.896549e+07</td>\n",
              "      <td>269</td>\n",
              "      <td>3</td>\n",
              "      <td>8.392425e+06</td>\n",
              "      <td>2.516338e+06</td>\n",
              "      <td>3.541464e+07</td>\n",
              "    </tr>\n",
              "    <tr>\n",
              "      <th>(2162, 2527]</th>\n",
              "      <td>2.193667e+06</td>\n",
              "      <td>0.000000e+00</td>\n",
              "      <td>2.193667e+06</td>\n",
              "      <td>123</td>\n",
              "      <td>1</td>\n",
              "      <td>NaN</td>\n",
              "      <td>NaN</td>\n",
              "      <td>NaN</td>\n",
              "    </tr>\n",
              "    <tr>\n",
              "      <th>(2527, 2892]</th>\n",
              "      <td>9.044575e+06</td>\n",
              "      <td>0.000000e+00</td>\n",
              "      <td>9.044575e+06</td>\n",
              "      <td>80</td>\n",
              "      <td>4</td>\n",
              "      <td>9.044575e+06</td>\n",
              "      <td>-8.682792e+06</td>\n",
              "      <td>2.677194e+07</td>\n",
              "    </tr>\n",
              "    <tr>\n",
              "      <th>(2892, 3257]</th>\n",
              "      <td>2.984296e+07</td>\n",
              "      <td>0.000000e+00</td>\n",
              "      <td>2.984296e+07</td>\n",
              "      <td>23</td>\n",
              "      <td>1</td>\n",
              "      <td>NaN</td>\n",
              "      <td>NaN</td>\n",
              "      <td>NaN</td>\n",
              "    </tr>\n",
              "    <tr>\n",
              "      <th>(3257, 3622]</th>\n",
              "      <td>5.439231e+07</td>\n",
              "      <td>NaN</td>\n",
              "      <td>NaN</td>\n",
              "      <td>13</td>\n",
              "      <td>0</td>\n",
              "      <td>NaN</td>\n",
              "      <td>NaN</td>\n",
              "      <td>NaN</td>\n",
              "    </tr>\n",
              "    <tr>\n",
              "      <th>(3622, 3987]</th>\n",
              "      <td>0.000000e+00</td>\n",
              "      <td>NaN</td>\n",
              "      <td>NaN</td>\n",
              "      <td>10</td>\n",
              "      <td>0</td>\n",
              "      <td>NaN</td>\n",
              "      <td>NaN</td>\n",
              "      <td>NaN</td>\n",
              "    </tr>\n",
              "  </tbody>\n",
              "</table>\n",
              "</div>"
            ],
            "text/plain": [
              "                Avg_A_Dlrs    Avg_U_Dlrs  ...  Conf_interval_from  Conf_interval_to\n",
              "age_groups                                ...                                      \n",
              "(-28, 337]    3.304961e+06  1.029037e+06  ...        1.618996e+06      2.932851e+06\n",
              "(337, 702]    2.580509e+06  1.292455e+06  ...       -2.775706e+05      2.853679e+06\n",
              "(702, 1067]   3.461418e+06  2.749074e+06  ...       -1.329141e+06      2.753831e+06\n",
              "(1067, 1432]  2.721755e+06  2.763679e+06  ...       -2.394220e+06      2.310372e+06\n",
              "(1432, 1797]  3.239958e+06  0.000000e+00  ...        1.411971e+06      5.067944e+06\n",
              "(1797, 2162]  2.062649e+07  1.661000e+06  ...        2.516338e+06      3.541464e+07\n",
              "(2162, 2527]  2.193667e+06  0.000000e+00  ...                 NaN               NaN\n",
              "(2527, 2892]  9.044575e+06  0.000000e+00  ...       -8.682792e+06      2.677194e+07\n",
              "(2892, 3257]  2.984296e+07  0.000000e+00  ...                 NaN               NaN\n",
              "(3257, 3622]  5.439231e+07           NaN  ...                 NaN               NaN\n",
              "(3622, 3987]  0.000000e+00           NaN  ...                 NaN               NaN\n",
              "\n",
              "[11 rows x 8 columns]"
            ]
          },
          "metadata": {
            "tags": []
          },
          "execution_count": 34
        }
      ]
    },
    {
      "cell_type": "markdown",
      "metadata": {
        "id": "jSf1r3Sd7qVT"
      },
      "source": [
        "```\n",
        "### ** Results Summary **:\n",
        "1. The results show the z-score calculation for 95% confidence interval for incremental impact in revenue for leads assigned and leads un-assigned\n",
        "2. Based on assumption 2 (Revenue = 0, when no revenue values are provided); the revenue difference (in millions) between assigned and un-assigned leads are as follows for different age groups;\n",
        "  1. YEAR 1 - from +1.61M to 2.93M\n",
        "  2. YEAR 2 - from -0.28M to 2.85M\n",
        "  3. YEAR 3 - from -1.33M to 2.75M    \n",
        "  4. YEAR 4 - from -2.39M to 2.31M\n",
        "  5. YEAR 5 - from +1.41M to 5.08M \n",
        "  6. YEAR 6 - from +2.51M to 3.54M (less no of samples of un-assigned leads, only 3 unassigned lead; so we can ignore this scenario)\n",
        "  7. YEAR 8 - from -8.68M to 26.7M (not enough un-assigned sample leads to derive a conclusion, only 4 unassigned leads; so we can neglect this scenario)\n",
        "3. Years 1 to years 5 have a better representation (sample size) of assigned leads and un-assigned leads. \n",
        "4. From our analysis, years 1 and years 5 don't have a interval including zero; hence we can conclude that there is a positive incremental impact in revenue for years 1 and years 5.\n",
        "5. From our analysis, we cannot say with 95% confidence for account ages 2,3 and 4 that the incremental value of assigning leads will be positive. \n",
        "6. Only for 1 and 5 year old accounts, the incremental value of assigning a lead can be positive.\n",
        "```"
      ]
    },
    {
      "cell_type": "markdown",
      "metadata": {
        "id": "WDx6YkxntEEQ"
      },
      "source": [
        "**# Question 5**"
      ]
    },
    {
      "cell_type": "code",
      "metadata": {
        "colab": {
          "base_uri": "https://localhost:8080/"
        },
        "id": "kJlq-X0Bp1VG",
        "outputId": "77e02b52-e94e-4b79-bf18-365641a5cc7b"
      },
      "source": [
        "df_subset1 = (len(df_assumption2[(df_assumption2['assign_days']>0) & (df_assumption2['assigned'] == 0)])/(df_assumption2.shape[0]))*100\n",
        "print(\"Percentage of un-assigned leads as a fraction of total leads having positive assignment days:\", \"{:.2f}\".format(df_subset1))\n",
        "df_subset2 = (len((df_assumption2[(df_assumption2['assign_days']>0) & (df_assumption2['assigned'] == 0)]))/len(df_assumption2[(df_assumption2['assigned'] == 0)]))*100\n",
        "print(\"Percentage of un-assigned leads as a fraction of total un-assigned leads having positive assignment days:\", \"{:.2f}\".format(df_subset2))\n",
        "#52 percent of the un-assigned leads have postive assignment days; which seems incorrect;"
      ],
      "execution_count": null,
      "outputs": [
        {
          "output_type": "stream",
          "text": [
            "Percentage of un-assigned leads as a fraction of total leads having positive assignment days: 52.31\n",
            "Percentage of un-assigned leads as a fraction of total un-assigned leads having positive assignment days: 99.83\n"
          ],
          "name": "stdout"
        }
      ]
    },
    {
      "cell_type": "code",
      "metadata": {
        "colab": {
          "base_uri": "https://localhost:8080/"
        },
        "id": "e9KabF2e2UHO",
        "outputId": "45cedc2e-d40d-4dc3-ae1f-64cfde8814c9"
      },
      "source": [
        "df_assumption2[(df_assumption2['assigned'] == 0)]['assign_days'].describe()"
      ],
      "execution_count": null,
      "outputs": [
        {
          "output_type": "execute_result",
          "data": {
            "text/plain": [
              "count    40812.000000\n",
              "mean       124.014971\n",
              "std         36.355873\n",
              "min          0.000000\n",
              "25%        136.000000\n",
              "50%        137.000000\n",
              "75%        137.000000\n",
              "max        138.000000\n",
              "Name: assign_days, dtype: float64"
            ]
          },
          "metadata": {
            "tags": []
          },
          "execution_count": 196
        }
      ]
    },
    {
      "cell_type": "code",
      "metadata": {
        "colab": {
          "base_uri": "https://localhost:8080/",
          "height": 348
        },
        "id": "ELPMbW-G0iF5",
        "outputId": "e19f1204-a05f-45f2-f8e1-d6654448e4dd"
      },
      "source": [
        "plt.figure()\n",
        "plt.hist(df_assumption2['assign_days'][df_assumption2['assign_days']!= 0][df_assumption2['assigned'] == 0], bins=30)\n",
        "plt.title('Histogram of the Assignement Days')\n",
        "df_subset2 = (len((df_assumption2[(df_assumption2['assign_days']>135)&(df_assumption2['assign_days']<140) & (df_assumption2['assigned'] == 0)]))/len(df_assumption2[(df_assumption2['assigned'] == 0)]))*100\n",
        "print(\"Percentage (%) of un-assigned leads {135 - 140} days as a fraction of total un-assigned leads having positive assignment days:\", \"{:.1f}\".format(df_subset2))\n",
        "df_subset2_assigned = (len((df_assumption2[(df_assumption2['assign_days']>135)&(df_assumption2['assign_days']<140) & (df_assumption2['assigned'] != 0)]))/len(df_assumption2[(df_assumption2['assigned'] != 0)]))*100\n",
        "print(\"Percentage (%) of un-assigned leads {135 - 140} days as a fraction of total un-assigned leads having positive assignment days:\", \"{:.1f}\".format(df_subset2_assigned))\n",
        "df_subset3 = (len((df_assumption2[(df_assumption2['age'] == 0) & (df_assumption2['assigned'] == 0)]))/len(df_assumption2[(df_assumption2['assigned'] == 0)]))*100\n",
        "print(\"Percentage (%) of un-assigned leads as fraction of total un-assigned leads having age equals 0:\", \"{:.1f}\".format(df_subset3))\n",
        "df_subset3_assigned = (len((df_assumption2[(df_assumption2['age'] == 0) & (df_assumption2['assigned'] != 0)]))/len(df_assumption2[(df_assumption2['assigned'] != 0)]))*100\n",
        "print(\"Percentage (%) of assigned leads as fraction of total assigned leads having age equals 0:\", \"{:.1f}\".format(df_subset3_assigned))"
      ],
      "execution_count": null,
      "outputs": [
        {
          "output_type": "stream",
          "text": [
            "Percentage (%) of un-assigned leads {135 - 140} days as a fraction of total un-assigned leads having positive assignment days: 87.6\n",
            "Percentage (%) of un-assigned leads {135 - 140} days as a fraction of total un-assigned leads having positive assignment days: 77.7\n",
            "Percentage (%) of un-assigned leads as fraction of total un-assigned leads having age equals 0: 95.9\n",
            "Percentage (%) of assigned leads as fraction of total assigned leads having age equals 0: 9.2\n"
          ],
          "name": "stdout"
        },
        {
          "output_type": "display_data",
          "data": {
            "image/png": "[encoded data removed]",
            "text/plain": [
              "<Figure size 432x288 with 1 Axes>"
            ]
          },
          "metadata": {
            "tags": [],
            "needs_background": "light"
          }
        }
      ]
    },
    {
      "cell_type": "markdown",
      "metadata": {
        "id": "RUfqCAbH5cw8"
      },
      "source": [
        "***# 87.63% of unassigned leads have assign days between 135 and 140; these leads could be erroneously flagged as unassigned and there could be a possibility that these leads could be assigned.***"
      ]
    },
    {
      "cell_type": "code",
      "metadata": {
        "colab": {
          "base_uri": "https://localhost:8080/",
          "height": 742
        },
        "id": "Inbu8IXgAU3b",
        "outputId": "3dbe78ac-6b0c-477e-9e41-16b46627cbbc"
      },
      "source": [
        "plt.figure(figsize=(16,12))\n",
        "sns.boxplot(x=\"age_groups\", y=\"revenue\", hue=\"assigned\",data=df_assumption1, palette=\"coolwarm\")"
      ],
      "execution_count": null,
      "outputs": [
        {
          "output_type": "execute_result",
          "data": {
            "text/plain": [
              "<matplotlib.axes._subplots.AxesSubplot at 0x7fd456087e10>"
            ]
          },
          "metadata": {
            "tags": []
          },
          "execution_count": 198
        },
        {
          "output_type": "display_data",
          "data": {
            "image/png": "[encoded data removed]",
            "text/plain": [
              "<Figure size 1152x864 with 1 Axes>"
            ]
          },
          "metadata": {
            "tags": [],
            "needs_background": "light"
          }
        }
      ]
    },
    {
      "cell_type": "code",
      "metadata": {
        "colab": {
          "base_uri": "https://localhost:8080/",
          "height": 282
        },
        "id": "6QAafufhOzPo",
        "outputId": "6121e961-5946-4749-8dde-ba233f8102da"
      },
      "source": [
        "# Checking the distribution between age and revenue;\n",
        "df_subset = df[['age','revenue']]\n",
        "#Check the graphic again\n",
        "fig, ax = plt.subplots()\n",
        "ax.scatter(np.sqrt(df['age']), np.log(df['revenue']))\n",
        "plt.ylabel('age', fontsize=13)\n",
        "plt.xlabel('revenue', fontsize=13)\n",
        "plt.show()"
      ],
      "execution_count": null,
      "outputs": [
        {
          "output_type": "display_data",
          "data": {
            "image/png": "[encoded data removed]",
            "text/plain": [
              "<Figure size 432x288 with 1 Axes>"
            ]
          },
          "metadata": {
            "tags": [],
            "needs_background": "light"
          }
        }
      ]
    },
    {
      "cell_type": "code",
      "metadata": {
        "colab": {
          "base_uri": "https://localhost:8080/",
          "height": 296
        },
        "id": "uKueQDrCRFSZ",
        "outputId": "a376b69a-15a4-4d19-e7e4-e9696ad61a10"
      },
      "source": [
        "sns.distplot(df['age'] , fit=norm);\n",
        "df.shape"
      ],
      "execution_count": null,
      "outputs": [
        {
          "output_type": "execute_result",
          "data": {
            "text/plain": [
              "(77891, 9)"
            ]
          },
          "metadata": {
            "tags": []
          },
          "execution_count": 200
        },
        {
          "output_type": "display_data",
          "data": {
            "image/png": "[encoded data removed]",
            "text/plain": [
              "<Figure size 432x288 with 1 Axes>"
            ]
          },
          "metadata": {
            "tags": [],
            "needs_background": "light"
          }
        }
      ]
    },
    {
      "cell_type": "code",
      "metadata": {
        "colab": {
          "base_uri": "https://localhost:8080/"
        },
        "id": "J8pIhnefNbAg",
        "outputId": "426ee306-189d-424b-bc4e-d79f0e974c7d"
      },
      "source": [
        "df_drop_null = df.dropna(how='any',axis=0)\n",
        "df_drop_null.columns"
      ],
      "execution_count": null,
      "outputs": [
        {
          "output_type": "execute_result",
          "data": {
            "text/plain": [
              "Index(['advertiser_id', 'assigned', 'date_assignment_starts',\n",
              "       'date_assignment_ends', 'first_revenue_date', 'date_created', 'age',\n",
              "       'assign_days', 'revenue'],\n",
              "      dtype='object')"
            ]
          },
          "metadata": {
            "tags": []
          },
          "execution_count": 19
        }
      ]
    },
    {
      "cell_type": "code",
      "metadata": {
        "colab": {
          "base_uri": "https://localhost:8080/"
        },
        "id": "u6Pes9TKP5I3",
        "outputId": "f99fcd70-fa6f-4ae8-cabd-06ec02d1f85d"
      },
      "source": [
        "df_drop_null.shape"
      ],
      "execution_count": null,
      "outputs": [
        {
          "output_type": "execute_result",
          "data": {
            "text/plain": [
              "(8433, 9)"
            ]
          },
          "metadata": {
            "tags": []
          },
          "execution_count": 20
        }
      ]
    },
    {
      "cell_type": "code",
      "metadata": {
        "colab": {
          "base_uri": "https://localhost:8080/",
          "height": 282
        },
        "id": "gD4qyJYgPW9s",
        "outputId": "72daae67-61ac-4122-be88-736464809add"
      },
      "source": [
        "#Check the graphic again\n",
        "fig, ax = plt.subplots()\n",
        "ax.scatter(np.sqrt(df_drop_null['age']), np.log(df_drop_null['revenue']))\n",
        "plt.ylabel('age', fontsize=13)\n",
        "plt.xlabel('revenue', fontsize=13)\n",
        "plt.show()"
      ],
      "execution_count": null,
      "outputs": [
        {
          "output_type": "display_data",
          "data": {
            "image/png": "[encoded data removed]",
            "text/plain": [
              "<Figure size 432x288 with 1 Axes>"
            ]
          },
          "metadata": {
            "tags": [],
            "needs_background": "light"
          }
        }
      ]
    }
  ]
}